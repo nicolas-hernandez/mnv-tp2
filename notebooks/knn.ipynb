{
 "cells": [
  {
   "cell_type": "markdown",
   "metadata": {},
   "source": [
    "# Sentiment Analysis con KNN\n",
    "## Clasificador en C++ 💪💪\n",
    "Vamos a probar a nuestro bichito\n"
   ]
  },
  {
   "cell_type": "markdown",
   "metadata": {},
   "source": [
    "Definir los path al ejecutable de python 3.6 y sus librerías,\n",
    "de acuerdo al virtual env que estén corriendo."
   ]
  },
  {
   "cell_type": "code",
   "execution_count": 1,
   "metadata": {},
   "outputs": [
    {
     "name": "stdout",
     "output_type": "stream",
     "text": [
      "mkdir: no se puede crear el directorio «build»: El archivo ya existe\n",
      "-- The C compiler identification is GNU 8.3.0\n",
      "-- The CXX compiler identification is GNU 8.3.0\n",
      "-- Check for working C compiler: /usr/bin/cc\n",
      "-- Check for working C compiler: /usr/bin/cc -- works\n",
      "-- Detecting C compiler ABI info\n",
      "-- Detecting C compiler ABI info - done\n",
      "-- Detecting C compile features\n",
      "-- Detecting C compile features - done\n",
      "-- Check for working CXX compiler: /usr/bin/c++\n",
      "-- Check for working CXX compiler: /usr/bin/c++ -- works\n",
      "-- Detecting CXX compiler ABI info\n",
      "-- Detecting CXX compiler ABI info - done\n",
      "-- Detecting CXX compile features\n",
      "-- Detecting CXX compile features - done\n",
      "Release mode\n",
      "-- Found PythonInterp: /usr/bin/python (found version \"2.7.16\") \n",
      "-- Found PythonLibs: /usr/lib/x86_64-linux-gnu/libpython2.7.so\n",
      "-- pybind11 v2.3.dev0\n",
      "-- Performing Test HAS_FLTO\n",
      "-- Performing Test HAS_FLTO - Success\n",
      "-- LTO enabled\n",
      "CMAKE_INSTALL_PREFIX=/home/guidotripodi/Documentos/Facu/MN/mntp2/mnv-tp2\n",
      "-- Configuring done\n",
      "-- Generating done\n",
      "-- Build files have been written to: /home/guidotripodi/Documentos/Facu/MN/mntp2/mnv-tp2/build\n",
      "\u001b[35m\u001b[1mScanning dependencies of target tp2_pybind\u001b[0m\n",
      "[  6%] \u001b[32mBuilding CXX object CMakeFiles/tp2_pybind.dir/src/main_pybind.cpp.o\u001b[0m\n",
      "[ 13%] \u001b[32mBuilding CXX object CMakeFiles/tp2_pybind.dir/src/knn.cpp.o\u001b[0m\n",
      "[ 20%] \u001b[32mBuilding CXX object CMakeFiles/tp2_pybind.dir/src/pca.cpp.o\u001b[0m\n",
      "[ 26%] \u001b[32mBuilding CXX object CMakeFiles/tp2_pybind.dir/src/eigen.cpp.o\u001b[0m\n",
      "\u001b[01m\u001b[K/home/guidotripodi/Documentos/Facu/MN/mntp2/mnv-tp2/src/eigen.cpp:\u001b[m\u001b[K In function ‘\u001b[01m\u001b[Kstd::pair<double, Eigen::Matrix<double, -1, 1> > power_iteration(const Matrix&, unsigned int, double)\u001b[m\u001b[K’:\n",
      "\u001b[01m\u001b[K/home/guidotripodi/Documentos/Facu/MN/mntp2/mnv-tp2/src/eigen.cpp:20:30:\u001b[m\u001b[K \u001b[01;35m\u001b[Kwarning: \u001b[m\u001b[Kcomparison of integer expressions of different signedness: ‘\u001b[01m\u001b[Kint\u001b[m\u001b[K’ and ‘\u001b[01m\u001b[Kunsigned int\u001b[m\u001b[K’ [\u001b[01;35m\u001b[K-Wsign-compare\u001b[m\u001b[K]\n",
      "     while(dif >= eps || \u001b[01;35m\u001b[Kiter <num_iter\u001b[m\u001b[K){\n",
      "                         \u001b[01;35m\u001b[K~~~~~^~~~~~~~~\u001b[m\u001b[K\n",
      "\u001b[01m\u001b[K/home/guidotripodi/Documentos/Facu/MN/mntp2/mnv-tp2/src/eigen.cpp:15:12:\u001b[m\u001b[K \u001b[01;35m\u001b[Kwarning: \u001b[m\u001b[Kvariable ‘\u001b[01m\u001b[Knorma\u001b[m\u001b[K’ set but not used [\u001b[01;35m\u001b[K-Wunused-but-set-variable\u001b[m\u001b[K]\n",
      "     double \u001b[01;35m\u001b[Knorma\u001b[m\u001b[K= 0;\n",
      "            \u001b[01;35m\u001b[K^~~~~\u001b[m\u001b[K\n",
      "[ 33%] \u001b[32m\u001b[1mLinking CXX executable tp2_pybind\u001b[0m\n",
      "[ 33%] Built target tp2_pybind\n",
      "\u001b[35m\u001b[1mScanning dependencies of target sentiment\u001b[0m\n",
      "[ 40%] \u001b[32mBuilding CXX object CMakeFiles/sentiment.dir/src/sentiment.cpp.o\u001b[0m\n",
      "[ 46%] \u001b[32mBuilding CXX object CMakeFiles/sentiment.dir/src/knn.cpp.o\u001b[0m\n",
      "[ 53%] \u001b[32mBuilding CXX object CMakeFiles/sentiment.dir/src/pca.cpp.o\u001b[0m\n",
      "[ 60%] \u001b[32mBuilding CXX object CMakeFiles/sentiment.dir/src/eigen.cpp.o\u001b[0m\n",
      "\u001b[01m\u001b[K/home/guidotripodi/Documentos/Facu/MN/mntp2/mnv-tp2/src/eigen.cpp:\u001b[m\u001b[K In function ‘\u001b[01m\u001b[Kstd::pair<double, Eigen::Matrix<double, -1, 1> > power_iteration(const Matrix&, unsigned int, double)\u001b[m\u001b[K’:\n",
      "\u001b[01m\u001b[K/home/guidotripodi/Documentos/Facu/MN/mntp2/mnv-tp2/src/eigen.cpp:20:30:\u001b[m\u001b[K \u001b[01;35m\u001b[Kwarning: \u001b[m\u001b[Kcomparison of integer expressions of different signedness: ‘\u001b[01m\u001b[Kint\u001b[m\u001b[K’ and ‘\u001b[01m\u001b[Kunsigned int\u001b[m\u001b[K’ [\u001b[01;35m\u001b[K-Wsign-compare\u001b[m\u001b[K]\n",
      "     while(dif >= eps || \u001b[01;35m\u001b[Kiter <num_iter\u001b[m\u001b[K){\n",
      "                         \u001b[01;35m\u001b[K~~~~~^~~~~~~~~\u001b[m\u001b[K\n",
      "\u001b[01m\u001b[K/home/guidotripodi/Documentos/Facu/MN/mntp2/mnv-tp2/src/eigen.cpp:15:12:\u001b[m\u001b[K \u001b[01;35m\u001b[Kwarning: \u001b[m\u001b[Kvariable ‘\u001b[01m\u001b[Knorma\u001b[m\u001b[K’ set but not used [\u001b[01;35m\u001b[K-Wunused-but-set-variable\u001b[m\u001b[K]\n",
      "     double \u001b[01;35m\u001b[Knorma\u001b[m\u001b[K= 0;\n",
      "            \u001b[01;35m\u001b[K^~~~~\u001b[m\u001b[K\n",
      "[ 66%] \u001b[32m\u001b[1mLinking CXX shared module sentiment.so\u001b[0m\n",
      "[ 66%] Built target sentiment\n",
      "\u001b[35m\u001b[1mScanning dependencies of target tp2\u001b[0m\n",
      "[ 73%] \u001b[32mBuilding CXX object CMakeFiles/tp2.dir/src/main.cpp.o\u001b[0m\n",
      "[ 80%] \u001b[32mBuilding CXX object CMakeFiles/tp2.dir/src/knn.cpp.o\u001b[0m\n",
      "[ 86%] \u001b[32mBuilding CXX object CMakeFiles/tp2.dir/src/pca.cpp.o\u001b[0m\n",
      "[ 93%] \u001b[32mBuilding CXX object CMakeFiles/tp2.dir/src/eigen.cpp.o\u001b[0m\n",
      "\u001b[01m\u001b[K/home/guidotripodi/Documentos/Facu/MN/mntp2/mnv-tp2/src/eigen.cpp:\u001b[m\u001b[K In function ‘\u001b[01m\u001b[Kstd::pair<double, Eigen::Matrix<double, -1, 1> > power_iteration(const Matrix&, unsigned int, double)\u001b[m\u001b[K’:\n",
      "\u001b[01m\u001b[K/home/guidotripodi/Documentos/Facu/MN/mntp2/mnv-tp2/src/eigen.cpp:20:30:\u001b[m\u001b[K \u001b[01;35m\u001b[Kwarning: \u001b[m\u001b[Kcomparison of integer expressions of different signedness: ‘\u001b[01m\u001b[Kint\u001b[m\u001b[K’ and ‘\u001b[01m\u001b[Kunsigned int\u001b[m\u001b[K’ [\u001b[01;35m\u001b[K-Wsign-compare\u001b[m\u001b[K]\n",
      "     while(dif >= eps || \u001b[01;35m\u001b[Kiter <num_iter\u001b[m\u001b[K){\n",
      "                         \u001b[01;35m\u001b[K~~~~~^~~~~~~~~\u001b[m\u001b[K\n",
      "\u001b[01m\u001b[K/home/guidotripodi/Documentos/Facu/MN/mntp2/mnv-tp2/src/eigen.cpp:15:12:\u001b[m\u001b[K \u001b[01;35m\u001b[Kwarning: \u001b[m\u001b[Kvariable ‘\u001b[01m\u001b[Knorma\u001b[m\u001b[K’ set but not used [\u001b[01;35m\u001b[K-Wunused-but-set-variable\u001b[m\u001b[K]\n",
      "     double \u001b[01;35m\u001b[Knorma\u001b[m\u001b[K= 0;\n",
      "            \u001b[01;35m\u001b[K^~~~~\u001b[m\u001b[K\n",
      "[100%] \u001b[32m\u001b[1mLinking CXX executable tp2\u001b[0m\n",
      "[100%] Built target tp2\n",
      "\u001b[36mInstall the project...\u001b[0m\n",
      "-- Install configuration: \"Release\"\n",
      "-- Installing: /home/guidotripodi/Documentos/Facu/MN/mntp2/mnv-tp2/notebooks/sentiment.so\n"
     ]
    }
   ],
   "source": [
    "!cd .. && git submodule init\n",
    "!cd .. && git submodule update\n",
    "!cd .. && mkdir build\n",
    "!cd ../build/ && rm -rf *\n",
    "!cd ../build && cmake \\\n",
    "  -DPYTHON_EXECUTABLE=\"$(which python)\" \\\n",
    "  -DCMAKE_BUILD_TYPE=Release ..\n",
    "!cd ../build && make install"
   ]
  },
  {
   "cell_type": "code",
   "execution_count": null,
   "metadata": {},
   "outputs": [],
   "source": [
    "import numpy as np\n",
    "import sentiment\n",
    "\n",
    "D = np.diag(np.arange(5,0,-1))\n",
    "#sentiment.power_iteration(D,1000)\n",
    "sentiment.get_first_eigenvalues(D,5,10,1.12535175e-7)"
   ]
  },
  {
   "cell_type": "code",
   "execution_count": null,
   "metadata": {},
   "outputs": [],
   "source": [
    "# Verifico la correcta instalación. Si no falla el import está OK\n",
    "!pwd\n",
    "!python --version\n",
    "import sentiment\n"
   ]
  },
  {
   "cell_type": "code",
   "execution_count": null,
   "metadata": {},
   "outputs": [],
   "source": []
  },
  {
   "cell_type": "code",
   "execution_count": null,
   "metadata": {},
   "outputs": [],
   "source": [
    "%load_ext autoreload\n",
    "%autoreload 2\n",
    "import pandas as pd\n",
    "\n",
    "!cd ../data && tar -xvf *.tgz\n",
    "\n",
    "df = pd.read_csv(\"../data/imdb_small.csv\", index_col=0)\n",
    "\n",
    "print(\"Cantidad de documentos: {}\".format(df.shape[0]))"
   ]
  },
  {
   "cell_type": "code",
   "execution_count": null,
   "metadata": {},
   "outputs": [],
   "source": [
    "df.describe()"
   ]
  },
  {
   "cell_type": "code",
   "execution_count": null,
   "metadata": {},
   "outputs": [],
   "source": [
    "text_train = df[df.type == 'train'][\"review\"]\n",
    "label_train = df[df.type == 'train'][\"label\"]\n",
    "\n",
    "text_test = df[df.type == 'test'][\"review\"]\n",
    "label_test = df[df.type == 'test'][\"label\"]\n",
    "\n",
    "print(\"Cantidad de instancias de entrenamiento = {}\".format(len(text_train)))\n",
    "print(\"Cantidad de instancias de test = {}\".format(len(text_test)))\n"
   ]
  },
  {
   "cell_type": "code",
   "execution_count": null,
   "metadata": {},
   "outputs": [],
   "source": [
    "print(\"Class balance : {} pos {} neg\".format(\n",
    "    (label_train == 'pos').sum() / label_train.shape[0], \n",
    "    (label_train == 'neg').sum() / label_train.shape[0]\n",
    "))"
   ]
  },
  {
   "cell_type": "code",
   "execution_count": null,
   "metadata": {},
   "outputs": [],
   "source": [
    "from sklearn.feature_extraction.text import CountVectorizer\n",
    "\n",
    "vectorizer = CountVectorizer(max_df=0.90, min_df=0.01, max_features=5000)\n",
    "\n",
    "vectorizer.fit(text_train)\n",
    "\n",
    "X_train, y_train = vectorizer.transform(text_train), (label_train == 'pos').values\n",
    "X_test, y_test = vectorizer.transform(text_test), (label_test == 'pos').values"
   ]
  },
  {
   "cell_type": "code",
   "execution_count": null,
   "metadata": {},
   "outputs": [],
   "source": [
    "import sentiment\n",
    "from sklearn.metrics import accuracy_score\n",
    "\n",
    "clf = sentiment.KNNClassifier(100)\n",
    "\n",
    "clf.fit(X_train, y_train)\n",
    "scores = []\n",
    "#k_values = [1,5,10,15,20,25,50] + list(range(100,400,50))\n",
    "k_values = [100]\n",
    "for k in k_values:\n",
    "    \"\"\"\n",
    "    Calcular el accuracy score para X_dev, y_dev\n",
    "    \"\"\"\n",
    "\n",
    "    clf = sentiment.KNNClassifier(k)\n",
    "\n",
    "    clf.fit(X_train, y_train)\n",
    "    \n",
    "    y_pred = clf.predict(X_test)\n",
    "    \n",
    "    acc = accuracy_score(y_test, y_pred)\n",
    "    print(\"k {} :  acc {}\".format(k, acc))\n",
    "    scores.append(acc)\n",
    "    \n",
    "print(scores)"
   ]
  },
  {
   "cell_type": "code",
   "execution_count": null,
   "metadata": {},
   "outputs": [],
   "source": [
    "%%time\n",
    "from sklearn.metrics import accuracy_score\n",
    "y_pred = clf.predict(X_test)\n",
    "\n",
    "acc = accuracy_score(y_test, y_pred)\n",
    "print(\"Accuracy: {}\".format(acc))"
   ]
  }
 ],
 "metadata": {
  "kernelspec": {
   "display_name": "Python 3",
   "language": "python",
   "name": "python3"
  },
  "language_info": {
   "codemirror_mode": {
    "name": "ipython",
    "version": 3
   },
   "file_extension": ".py",
   "mimetype": "text/x-python",
   "name": "python",
   "nbconvert_exporter": "python",
   "pygments_lexer": "ipython3",
   "version": "3.6.8"
  }
 },
 "nbformat": 4,
 "nbformat_minor": 2
}
