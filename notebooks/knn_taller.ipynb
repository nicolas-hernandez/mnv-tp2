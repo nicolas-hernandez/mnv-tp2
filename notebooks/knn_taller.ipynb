{
 "cells": [
  {
   "cell_type": "markdown",
   "metadata": {
    "colab_type": "text",
    "id": "NUzhPc_WIGY5"
   },
   "source": [
    "# Reconocimiento de Dígitos con KNN\n",
    "\n",
    "En esta notebook veremos cómo reconocer dígitos usando la técnica K-Nearest Neighbors (KNN).\n"
   ]
  },
  {
   "cell_type": "code",
   "execution_count": 1,
   "metadata": {
    "colab": {},
    "colab_type": "code",
    "id": "9C1u3Ynu_zkF"
   },
   "outputs": [
    {
     "ename": "ImportError",
     "evalue": "No module named 'matplotlib'",
     "output_type": "error",
     "traceback": [
      "\u001b[0;31m---------------------------------------------------------------------------\u001b[0m",
      "\u001b[0;31mImportError\u001b[0m                               Traceback (most recent call last)",
      "\u001b[0;32m<ipython-input-1-7910f10c4f2e>\u001b[0m in \u001b[0;36m<module>\u001b[0;34m\u001b[0m\n\u001b[0;32m----> 1\u001b[0;31m \u001b[0mget_ipython\u001b[0m\u001b[0;34m(\u001b[0m\u001b[0;34m)\u001b[0m\u001b[0;34m.\u001b[0m\u001b[0mrun_line_magic\u001b[0m\u001b[0;34m(\u001b[0m\u001b[0;34m'matplotlib'\u001b[0m\u001b[0;34m,\u001b[0m \u001b[0;34m'inline'\u001b[0m\u001b[0;34m)\u001b[0m\u001b[0;34m\u001b[0m\u001b[0m\n\u001b[0m\u001b[1;32m      2\u001b[0m \u001b[0;32mfrom\u001b[0m \u001b[0msklearn\u001b[0m \u001b[0;32mimport\u001b[0m \u001b[0mdatasets\u001b[0m\u001b[0;34m\u001b[0m\u001b[0m\n\u001b[1;32m      3\u001b[0m \u001b[0;32mimport\u001b[0m \u001b[0mnumpy\u001b[0m \u001b[0;32mas\u001b[0m \u001b[0mnp\u001b[0m\u001b[0;34m\u001b[0m\u001b[0m\n\u001b[1;32m      4\u001b[0m \u001b[0;32mimport\u001b[0m \u001b[0mpandas\u001b[0m \u001b[0;32mas\u001b[0m \u001b[0mpd\u001b[0m\u001b[0;34m\u001b[0m\u001b[0m\n\u001b[1;32m      5\u001b[0m \u001b[0;32mimport\u001b[0m \u001b[0mmatplotlib\u001b[0m\u001b[0;34m.\u001b[0m\u001b[0mpyplot\u001b[0m \u001b[0;32mas\u001b[0m \u001b[0mplt\u001b[0m\u001b[0;34m\u001b[0m\u001b[0m\n",
      "\u001b[0;32m~/.local/lib/python3.5/site-packages/IPython/core/interactiveshell.py\u001b[0m in \u001b[0;36mrun_line_magic\u001b[0;34m(self, magic_name, line, _stack_depth)\u001b[0m\n\u001b[1;32m   2312\u001b[0m                 \u001b[0mkwargs\u001b[0m\u001b[0;34m[\u001b[0m\u001b[0;34m'local_ns'\u001b[0m\u001b[0;34m]\u001b[0m \u001b[0;34m=\u001b[0m \u001b[0msys\u001b[0m\u001b[0;34m.\u001b[0m\u001b[0m_getframe\u001b[0m\u001b[0;34m(\u001b[0m\u001b[0mstack_depth\u001b[0m\u001b[0;34m)\u001b[0m\u001b[0;34m.\u001b[0m\u001b[0mf_locals\u001b[0m\u001b[0;34m\u001b[0m\u001b[0m\n\u001b[1;32m   2313\u001b[0m             \u001b[0;32mwith\u001b[0m \u001b[0mself\u001b[0m\u001b[0;34m.\u001b[0m\u001b[0mbuiltin_trap\u001b[0m\u001b[0;34m:\u001b[0m\u001b[0;34m\u001b[0m\u001b[0m\n\u001b[0;32m-> 2314\u001b[0;31m                 \u001b[0mresult\u001b[0m \u001b[0;34m=\u001b[0m \u001b[0mfn\u001b[0m\u001b[0;34m(\u001b[0m\u001b[0;34m*\u001b[0m\u001b[0margs\u001b[0m\u001b[0;34m,\u001b[0m \u001b[0;34m**\u001b[0m\u001b[0mkwargs\u001b[0m\u001b[0;34m)\u001b[0m\u001b[0;34m\u001b[0m\u001b[0m\n\u001b[0m\u001b[1;32m   2315\u001b[0m             \u001b[0;32mreturn\u001b[0m \u001b[0mresult\u001b[0m\u001b[0;34m\u001b[0m\u001b[0m\n\u001b[1;32m   2316\u001b[0m \u001b[0;34m\u001b[0m\u001b[0m\n",
      "\u001b[0;32m</home/sb/.local/lib/python3.5/site-packages/decorator.py:decorator-gen-108>\u001b[0m in \u001b[0;36mmatplotlib\u001b[0;34m(self, line)\u001b[0m\n",
      "\u001b[0;32m~/.local/lib/python3.5/site-packages/IPython/core/magic.py\u001b[0m in \u001b[0;36m<lambda>\u001b[0;34m(f, *a, **k)\u001b[0m\n\u001b[1;32m    185\u001b[0m     \u001b[0;31m# but it's overkill for just that one bit of state.\u001b[0m\u001b[0;34m\u001b[0m\u001b[0;34m\u001b[0m\u001b[0m\n\u001b[1;32m    186\u001b[0m     \u001b[0;32mdef\u001b[0m \u001b[0mmagic_deco\u001b[0m\u001b[0;34m(\u001b[0m\u001b[0marg\u001b[0m\u001b[0;34m)\u001b[0m\u001b[0;34m:\u001b[0m\u001b[0;34m\u001b[0m\u001b[0m\n\u001b[0;32m--> 187\u001b[0;31m         \u001b[0mcall\u001b[0m \u001b[0;34m=\u001b[0m \u001b[0;32mlambda\u001b[0m \u001b[0mf\u001b[0m\u001b[0;34m,\u001b[0m \u001b[0;34m*\u001b[0m\u001b[0ma\u001b[0m\u001b[0;34m,\u001b[0m \u001b[0;34m**\u001b[0m\u001b[0mk\u001b[0m\u001b[0;34m:\u001b[0m \u001b[0mf\u001b[0m\u001b[0;34m(\u001b[0m\u001b[0;34m*\u001b[0m\u001b[0ma\u001b[0m\u001b[0;34m,\u001b[0m \u001b[0;34m**\u001b[0m\u001b[0mk\u001b[0m\u001b[0;34m)\u001b[0m\u001b[0;34m\u001b[0m\u001b[0m\n\u001b[0m\u001b[1;32m    188\u001b[0m \u001b[0;34m\u001b[0m\u001b[0m\n\u001b[1;32m    189\u001b[0m         \u001b[0;32mif\u001b[0m \u001b[0mcallable\u001b[0m\u001b[0;34m(\u001b[0m\u001b[0marg\u001b[0m\u001b[0;34m)\u001b[0m\u001b[0;34m:\u001b[0m\u001b[0;34m\u001b[0m\u001b[0m\n",
      "\u001b[0;32m~/.local/lib/python3.5/site-packages/IPython/core/magics/pylab.py\u001b[0m in \u001b[0;36mmatplotlib\u001b[0;34m(self, line)\u001b[0m\n\u001b[1;32m     97\u001b[0m             \u001b[0mprint\u001b[0m\u001b[0;34m(\u001b[0m\u001b[0;34m\"Available matplotlib backends: %s\"\u001b[0m \u001b[0;34m%\u001b[0m \u001b[0mbackends_list\u001b[0m\u001b[0;34m)\u001b[0m\u001b[0;34m\u001b[0m\u001b[0m\n\u001b[1;32m     98\u001b[0m         \u001b[0;32melse\u001b[0m\u001b[0;34m:\u001b[0m\u001b[0;34m\u001b[0m\u001b[0m\n\u001b[0;32m---> 99\u001b[0;31m             \u001b[0mgui\u001b[0m\u001b[0;34m,\u001b[0m \u001b[0mbackend\u001b[0m \u001b[0;34m=\u001b[0m \u001b[0mself\u001b[0m\u001b[0;34m.\u001b[0m\u001b[0mshell\u001b[0m\u001b[0;34m.\u001b[0m\u001b[0menable_matplotlib\u001b[0m\u001b[0;34m(\u001b[0m\u001b[0margs\u001b[0m\u001b[0;34m.\u001b[0m\u001b[0mgui\u001b[0m\u001b[0;34m.\u001b[0m\u001b[0mlower\u001b[0m\u001b[0;34m(\u001b[0m\u001b[0;34m)\u001b[0m \u001b[0;32mif\u001b[0m \u001b[0misinstance\u001b[0m\u001b[0;34m(\u001b[0m\u001b[0margs\u001b[0m\u001b[0;34m.\u001b[0m\u001b[0mgui\u001b[0m\u001b[0;34m,\u001b[0m \u001b[0mstr\u001b[0m\u001b[0;34m)\u001b[0m \u001b[0;32melse\u001b[0m \u001b[0margs\u001b[0m\u001b[0;34m.\u001b[0m\u001b[0mgui\u001b[0m\u001b[0;34m)\u001b[0m\u001b[0;34m\u001b[0m\u001b[0m\n\u001b[0m\u001b[1;32m    100\u001b[0m             \u001b[0mself\u001b[0m\u001b[0;34m.\u001b[0m\u001b[0m_show_matplotlib_backend\u001b[0m\u001b[0;34m(\u001b[0m\u001b[0margs\u001b[0m\u001b[0;34m.\u001b[0m\u001b[0mgui\u001b[0m\u001b[0;34m,\u001b[0m \u001b[0mbackend\u001b[0m\u001b[0;34m)\u001b[0m\u001b[0;34m\u001b[0m\u001b[0m\n\u001b[1;32m    101\u001b[0m \u001b[0;34m\u001b[0m\u001b[0m\n",
      "\u001b[0;32m~/.local/lib/python3.5/site-packages/IPython/core/interactiveshell.py\u001b[0m in \u001b[0;36menable_matplotlib\u001b[0;34m(self, gui)\u001b[0m\n\u001b[1;32m   3400\u001b[0m         \"\"\"\n\u001b[1;32m   3401\u001b[0m         \u001b[0;32mfrom\u001b[0m \u001b[0mIPython\u001b[0m\u001b[0;34m.\u001b[0m\u001b[0mcore\u001b[0m \u001b[0;32mimport\u001b[0m \u001b[0mpylabtools\u001b[0m \u001b[0;32mas\u001b[0m \u001b[0mpt\u001b[0m\u001b[0;34m\u001b[0m\u001b[0m\n\u001b[0;32m-> 3402\u001b[0;31m         \u001b[0mgui\u001b[0m\u001b[0;34m,\u001b[0m \u001b[0mbackend\u001b[0m \u001b[0;34m=\u001b[0m \u001b[0mpt\u001b[0m\u001b[0;34m.\u001b[0m\u001b[0mfind_gui_and_backend\u001b[0m\u001b[0;34m(\u001b[0m\u001b[0mgui\u001b[0m\u001b[0;34m,\u001b[0m \u001b[0mself\u001b[0m\u001b[0;34m.\u001b[0m\u001b[0mpylab_gui_select\u001b[0m\u001b[0;34m)\u001b[0m\u001b[0;34m\u001b[0m\u001b[0m\n\u001b[0m\u001b[1;32m   3403\u001b[0m \u001b[0;34m\u001b[0m\u001b[0m\n\u001b[1;32m   3404\u001b[0m         \u001b[0;32mif\u001b[0m \u001b[0mgui\u001b[0m \u001b[0;34m!=\u001b[0m \u001b[0;34m'inline'\u001b[0m\u001b[0;34m:\u001b[0m\u001b[0;34m\u001b[0m\u001b[0m\n",
      "\u001b[0;32m~/.local/lib/python3.5/site-packages/IPython/core/pylabtools.py\u001b[0m in \u001b[0;36mfind_gui_and_backend\u001b[0;34m(gui, gui_select)\u001b[0m\n\u001b[1;32m    274\u001b[0m     \"\"\"\n\u001b[1;32m    275\u001b[0m \u001b[0;34m\u001b[0m\u001b[0m\n\u001b[0;32m--> 276\u001b[0;31m     \u001b[0;32mimport\u001b[0m \u001b[0mmatplotlib\u001b[0m\u001b[0;34m\u001b[0m\u001b[0m\n\u001b[0m\u001b[1;32m    277\u001b[0m \u001b[0;34m\u001b[0m\u001b[0m\n\u001b[1;32m    278\u001b[0m     \u001b[0;32mif\u001b[0m \u001b[0mgui\u001b[0m \u001b[0;32mand\u001b[0m \u001b[0mgui\u001b[0m \u001b[0;34m!=\u001b[0m \u001b[0;34m'auto'\u001b[0m\u001b[0;34m:\u001b[0m\u001b[0;34m\u001b[0m\u001b[0m\n",
      "\u001b[0;31mImportError\u001b[0m: No module named 'matplotlib'"
     ]
    }
   ],
   "source": [
    "%matplotlib inline\n",
    "from sklearn import datasets\n",
    "import numpy as np\n",
    "import pandas as pd\n",
    "import matplotlib.pyplot as plt\n",
    "from sklearn.datasets import fetch_openml\n"
   ]
  },
  {
   "cell_type": "markdown",
   "metadata": {
    "colab_type": "text",
    "id": "25PSxTTqIkan"
   },
   "source": [
    "Usaremos la base de datos MNIST. Primero, la bajamos"
   ]
  },
  {
   "cell_type": "code",
   "execution_count": null,
   "metadata": {
    "colab": {},
    "colab_type": "code",
    "id": "s5S1vfeQoAmw"
   },
   "outputs": [],
   "source": [
    "# Load data from https://www.openml.org/d/554\n",
    "X_all, y_all = fetch_openml('mnist_784', version=1, return_X_y=True)\n",
    "\n",
    "y_all = y_all.astype(int)\n"
   ]
  },
  {
   "cell_type": "markdown",
   "metadata": {
    "colab_type": "text",
    "id": "6P0JHXO_I7iv"
   },
   "source": [
    "Veamos qué forma tienen los datos"
   ]
  },
  {
   "cell_type": "code",
   "execution_count": 9,
   "metadata": {
    "colab": {
     "base_uri": "https://localhost:8080/",
     "height": 34
    },
    "colab_type": "code",
    "id": "TYUymFYCrDxa",
    "outputId": "2ba3e097-f8b1-4d7d-c074-f360a108f68b"
   },
   "outputs": [
    {
     "data": {
      "text/plain": [
       "((70000, 784), (70000,))"
      ]
     },
     "execution_count": 9,
     "metadata": {
      "tags": []
     },
     "output_type": "execute_result"
    }
   ],
   "source": [
    "X_all.shape, y_all.shape"
   ]
  },
  {
   "cell_type": "markdown",
   "metadata": {
    "colab_type": "text",
    "id": "uS4m4o38JAJj"
   },
   "source": [
    "En `X` tenemos imágenes de 28x28, una por línea (28x28 = 784).\n",
    "En `y` tenemos a qué clase pertenecen (si es un 0, un 1, un 2, ... así hasta 9)\n"
   ]
  },
  {
   "cell_type": "code",
   "execution_count": null,
   "metadata": {
    "colab": {},
    "colab_type": "code",
    "id": "3QmACGaar9yq"
   },
   "outputs": [],
   "source": [
    "\n",
    "limit = 10000\n",
    "X = X_all[:limit]\n",
    "y = y_all[:limit]"
   ]
  },
  {
   "cell_type": "markdown",
   "metadata": {
    "colab_type": "text",
    "id": "PQpmkjWBJSm4"
   },
   "source": [
    "Grafiquémoslos"
   ]
  },
  {
   "cell_type": "code",
   "execution_count": 63,
   "metadata": {
    "colab": {
     "base_uri": "https://localhost:8080/",
     "height": 304
    },
    "colab_type": "code",
    "id": "wTvspBibBQQD",
    "outputId": "4f5eaeba-57c1-4ee1-a0e8-06d48b156954"
   },
   "outputs": [
    {
     "name": "stdout",
     "output_type": "stream",
     "text": [
      "Supuestamente es un 5\n"
     ]
    },
    {
     "data": {
      "text/plain": [
       "<matplotlib.image.AxesImage at 0x7f540f835860>"
      ]
     },
     "execution_count": 63,
     "metadata": {
      "tags": []
     },
     "output_type": "execute_result"
    },
    {
     "data": {
      "image/png": "[encoded data removed]",
      "text/plain": [
       "<Figure size 432x288 with 1 Axes>"
      ]
     },
     "metadata": {
      "tags": []
     },
     "output_type": "display_data"
    }
   ],
   "source": [
    "num = 970\n",
    "\n",
    "print(\"Supuestamente es un {}\".format(y[num]))\n",
    "\n",
    "img = X[num].reshape(28, 28)\n",
    "plt.imshow(img, cmap=\"Greys\")\n"
   ]
  },
  {
   "cell_type": "markdown",
   "metadata": {
    "colab_type": "text",
    "id": "WxQB-SZNJU9J"
   },
   "source": [
    "### División del dataset entre train y test\n",
    "\n",
    "Dividimos el dataset entre train y test. Para eso usamos la siguiente función de `sklearn`"
   ]
  },
  {
   "cell_type": "code",
   "execution_count": 12,
   "metadata": {
    "colab": {
     "base_uri": "https://localhost:8080/",
     "height": 34
    },
    "colab_type": "code",
    "id": "nREpYkO2Hz-A",
    "outputId": "1a4ebcbb-ec19-4193-8906-40e8debbc08c"
   },
   "outputs": [
    {
     "data": {
      "text/plain": [
       "((7500, 784), (7500,), (2500, 784), (2500,))"
      ]
     },
     "execution_count": 12,
     "metadata": {
      "tags": []
     },
     "output_type": "execute_result"
    }
   ],
   "source": [
    "from sklearn.model_selection import train_test_split\n",
    "\n",
    "X_train, X_test, y_train, y_test = train_test_split(X, y, random_state=1111999988)\n",
    "\n",
    "X_train.shape, y_train.shape, X_test.shape, y_test.shape"
   ]
  },
  {
   "cell_type": "code",
   "execution_count": null,
   "metadata": {
    "colab": {},
    "colab_type": "code",
    "id": "mfZMva9uq_om"
   },
   "outputs": [],
   "source": [
    "from sklearn.neighbors import KNeighborsClassifier\n",
    "clf = KNeighborsClassifier(10)\n",
    "clf.fit(X_train, y_train)\n",
    "y_pred = clf.predict(X_test)\n"
   ]
  },
  {
   "cell_type": "markdown",
   "metadata": {
    "colab_type": "text",
    "id": "bsesf8FrGNQd"
   },
   "source": [
    "Vamos a implementar esto.\n",
    "\n",
    "Usualmente los clasificadores (siguiendo la interfaz de [sklearn](https://scikit-learn.org/stable/tutorial/statistical_inference/supervised_learning.html) tienen dos métodos:\n",
    "\n",
    "- `fit(X, y)` que ajusta(\"fittea\") el modelo a los datos \n",
    "- `predict(X)`: dadas observaciones `X` predice sus etiquetas `y`\n",
    "\n",
    "## Ejercicio\n",
    "\n",
    "Implementar los métodos fit y predict de KNNClassifier. Tratar de vectorizar las operaciones en la medida de lo posible.\n",
    "\n",
    "Pensar primero cómo calcular la distancia de un vector a todas las filas de una matriz `X`.\n",
    "\n",
    "Pueden ser de ayuda las siguientes funciones:\n",
    "\n",
    "- `np.linalg.norm`: devuelve el  \n",
    "- `np.argsort`: devuelve los índices de un array ordenados de menor a mayor\n",
    "- `np.bincount`:  dado un array de valores no-negativos, calcula cuántas veces vio a cada uno\n",
    "- `np.argmax`: devuelve el índice cuyo valor es el más grande de un array\n",
    "\n",
    "### Ejemplo de Broadcasting\n",
    "\n",
    "¿Cómo puedo restarle un vector a todas las filas de una matriz? Respuesta: [broadcasting](https://docs.scipy.org/doc/numpy-1.15.0/user/basics.broadcasting.html)"
   ]
  },
  {
   "cell_type": "code",
   "execution_count": null,
   "metadata": {
    "colab": {
     "base_uri": "https://localhost:8080/",
     "height": 85
    },
    "colab_type": "code",
    "id": "FpXy98CPnyMV",
    "outputId": "a4bcb29a-0dc9-4567-8d81-359b6748d8ae"
   },
   "outputs": [
    {
     "data": {
      "text/plain": [
       "array([[ 0, -1,  0],\n",
       "       [-1, -1,  0],\n",
       "       [-1, -2,  0],\n",
       "       [-1, -2, -1]])"
      ]
     },
     "execution_count": 8,
     "metadata": {
      "tags": []
     },
     "output_type": "execute_result"
    }
   ],
   "source": [
    "A = np.array([\n",
    "    [1, 1, 1],\n",
    "    [0, 1, 1],\n",
    "    [0, 0, 1],\n",
    "    [0, 0, 0]\n",
    "])\n",
    "\n",
    "x = np.array([1, 2, 1])\n",
    "\n",
    "A-x"
   ]
  },
  {
   "cell_type": "markdown",
   "metadata": {
    "colab_type": "text",
    "id": "cke7QZeppcLT"
   },
   "source": [
    "## Calcular operaciones por filas y columnas\n",
    "\n",
    "Muchas operaciones de Numpy (por ejemplo: calcular normas, sumas, etc) permiten ser ejecutadas por filas o columnas. Eso se suele controlar "
   ]
  },
  {
   "cell_type": "code",
   "execution_count": null,
   "metadata": {
    "colab": {},
    "colab_type": "code",
    "id": "BClZPiUXJhyD"
   },
   "outputs": [],
   "source": [
    "import numpy as np\n",
    "from IPython.core.debugger import set_trace\n",
    "\n",
    "\n",
    "class KNNClassifier:\n",
    "    def __init__(self, n_neighbors, order):\n",
    "        self.n_neighbors = n_neighbors\n",
    "        self.order = order\n",
    "    \n",
    "    def fit(self, X, y):\n",
    "        self.X = X\n",
    "        self.y = y\n",
    "        \n",
    "    def _distance_to_row(self, row):\n",
    "        dist = np.linalg.norm(self.X-row, axis=1, ord=self.order)\n",
    "        return dist\n",
    "        \n",
    "    def _predict_row(self, row):\n",
    "        dist = self._distance_to_row(row)\n",
    "        \n",
    "        index = np.argsort(dist)\n",
    "        closest = index[0:self.n_neighbors]\n",
    "        \n",
    "        neighbors = [self.y[i] for i in closest]\n",
    "          \n",
    "        count = np.bincount(neighbors)\n",
    "        \n",
    "        ret = np.argmax(count)\n",
    "        \n",
    "        \n",
    "        return ret\n",
    "    \n",
    "    def predict(self, X, y=None):\n",
    "        ret = np.zeros(X.shape[0])\n",
    "        for k, row in enumerate(X):\n",
    "            ret[k] = self._predict_row(row)\n",
    "        return ret"
   ]
  },
  {
   "cell_type": "markdown",
   "metadata": {
    "colab_type": "text",
    "id": "68eAjMIiG6by"
   },
   "source": [
    "Creamos el modelo y lo ajustamos a nuestros datos de entrenamiento"
   ]
  },
  {
   "cell_type": "code",
   "execution_count": null,
   "metadata": {
    "colab": {},
    "colab_type": "code",
    "id": "gOgE1YFDLCYQ"
   },
   "outputs": [],
   "source": [
    "\n",
    "clf = KNNClassifier(n_neighbors=11)\n",
    "\n",
    "clf.fit(X_train, y_train)\n"
   ]
  },
  {
   "cell_type": "markdown",
   "metadata": {
    "colab_type": "text",
    "id": "AUx6ceJOG9ZQ"
   },
   "source": [
    "Acá evaluamos cómo nos da el modelo. Esto lo hacemos midiendo la tasa de acierto de las predicciones de nuestro clasificador.\n",
    "\n",
    "Para eso, primero predecimos `y_pred` y nos fijamos cuántas de esas mediciones dan igual que `y_test`\n",
    "\n"
   ]
  },
  {
   "cell_type": "code",
   "execution_count": 44,
   "metadata": {
    "colab": {
     "base_uri": "https://localhost:8080/",
     "height": 69
    },
    "colab_type": "code",
    "id": "m9XH021Lq6sa",
    "outputId": "9793c8e1-2fbb-4073-d043-434089ab4c0a"
   },
   "outputs": [
    {
     "name": "stdout",
     "output_type": "stream",
     "text": [
      "Accuracy: 0.9384\n",
      "CPU times: user 1min 28s, sys: 1.98 s, total: 1min 30s\n",
      "Wall time: 1min 30s\n"
     ]
    }
   ],
   "source": [
    "%%time\n",
    "\n",
    "from sklearn.metrics import accuracy_score\n",
    "\n",
    "# Pedimos que prediga los de test...\n",
    "\n",
    "y_pred = clf.predict(X_test)\n",
    "\n",
    "# Pedimos \n",
    "acc = accuracy_score(y_test, y_pred)\n",
    "print(\"Accuracy: {}\".format(acc))"
   ]
  },
  {
   "cell_type": "markdown",
   "metadata": {
    "colab_type": "text",
    "id": "VfVhT9CMOW5y"
   },
   "source": [
    "Deberían obtener una tasa de acierto > 90%...\n",
    "\n",
    "Como vemos, se toma su tiempito. ¿Cómo podemos hacer para agilizar el proceso? \n",
    "\n",
    "Una solución es **reducir la dimensionalidad**, algo que veremos la próxima clase.\n",
    "\n"
   ]
  },
  {
   "cell_type": "markdown",
   "metadata": {
    "colab_type": "text",
    "id": "HHvUHCGipcLg"
   },
   "source": [
    "## Experimentando con los Parámetros\n",
    "\n",
    "¿Qué pasa si cambiamos la cantidad de vecinos a observar en la votación (K)?\n",
    "\n",
    "Agarremos un subconjunto pequeño de los datos de test \n",
    "\n",
    "**Observación**: Esto que estamos haciendo (ajustar un parámetro sobre el conjunto de test) no está bien, **está mal**. Pero a fines didácticos, nos sirve (o sea, está mal pero no tan mal)\n",
    "\n",
    "A quienes les interese ahondar en este tema, pueden cursar Aprendizaje Automático o Reconocimiento de Patrones."
   ]
  },
  {
   "cell_type": "code",
   "execution_count": null,
   "metadata": {
    "colab": {},
    "colab_type": "code",
    "id": "IrM2tU0JpcLh"
   },
   "outputs": [],
   "source": [
    "X_dev, y_dev = X_test[:1000], y_test[:1000]"
   ]
  },
  {
   "cell_type": "code",
   "execution_count": null,
   "metadata": {
    "colab": {
     "base_uri": "https://localhost:8080/",
     "height": 136
    },
    "colab_type": "code",
    "id": "gNoG1eoxpcLj",
    "outputId": "bee00d1e-66d8-43a6-d530-90b798e132c3"
   },
   "outputs": [
    {
     "name": "stdout",
     "output_type": "stream",
     "text": [
      "k 1 :  acc 0.98\n",
      "k 3 :  acc 0.94\n",
      "k 5 :  acc 0.9533333333333334\n",
      "k 7 :  acc 0.9466666666666667\n",
      "k 9 :  acc 0.9266666666666666\n",
      "k 11 :  acc 0.94\n",
      "k 13 :  acc 0.94\n"
     ]
    }
   ],
   "source": [
    "scores = []\n",
    "k_values = range(1, 15, 2) \n",
    "\n",
    "for k in k_values:\n",
    "    \"\"\"\n",
    "    TODO: Entrenar un clasificador con k \n",
    "    \n",
    "    Calcular el accuracy score para X_dev, y_dev\n",
    "    \"\"\"\n",
    "\n",
    "    clf = KNNClassifier(n_neighbors=k)\n",
    "\n",
    "    clf.fit(X_train, y_train)\n",
    "    \n",
    "    y_pred = clf.predict(X_dev)\n",
    "    \n",
    "    acc = accuracy_score(y_dev, y_pred)\n",
    "    print(\"k {} :  acc {}\".format(k, acc))\n",
    "    scores.append(acc)"
   ]
  },
  {
   "cell_type": "markdown",
   "metadata": {
    "colab_type": "text",
    "id": "UjTuxcJkpcLn"
   },
   "source": [
    "## Extra:\n",
    "\n",
    "Otras cosas que podemos probar\n",
    "\n",
    "1. Cambiar la métrica (en vez de usar $l_2$, usar $l_1$, $l_\\inf$. Con cuál funciona mejor? Ajustar el $k$ para cada una de las métricas\n",
    "\n",
    "2. ¿Cómo cambia la performance si usamos menos instancias de entrenamiento? Correr un experimento a fin de verificar esto."
   ]
  },
  {
   "cell_type": "code",
   "execution_count": 55,
   "metadata": {
    "colab": {
     "base_uri": "https://localhost:8080/",
     "height": 52
    },
    "colab_type": "code",
    "id": "wdbgbcXzpcLo",
    "outputId": "9901ad7d-3ef6-4375-cb2e-4969fbb52563"
   },
   "outputs": [
    {
     "name": "stdout",
     "output_type": "stream",
     "text": [
      "k:  acc 0.929\n",
      "k:  acc 0.666\n"
     ]
    }
   ],
   "source": [
    "X_dev, y_dev = X_test[:1000], y_test[:1000]\n",
    "\n",
    "clf_1 = KNNClassifier(n_neighbors=11, order=1)\n",
    "clf_1.fit(X_train, y_train)\n",
    "\n",
    "clf_inf = KNNClassifier(n_neighbors=11, order=np.inf)\n",
    "clf_inf.fit(X_train, y_train)\n",
    "\n",
    "y_pred_1 = clf_1.predict(X_dev)    \n",
    "y_pred_inf = clf_inf.predict(X_dev)    \n",
    "acc_1 = accuracy_score(y_dev, y_pred_1)\n",
    "acc_inf = accuracy_score(y_dev, y_pred_inf)\n",
    "\n",
    "print(\"k:  acc {}\".format(acc_1))\n",
    "print(\"k:  acc {}\".format(acc_inf))"
   ]
  }
 ],
 "metadata": {
  "colab": {
   "collapsed_sections": [],
   "name": "Copy of knn-digitos.ipynb",
   "provenance": []
  },
  "kernelspec": {
   "display_name": "Python 3",
   "language": "python",
   "name": "python3"
  },
  "language_info": {
   "codemirror_mode": {
    "name": "ipython",
    "version": 3
   },
   "file_extension": ".py",
   "mimetype": "text/x-python",
   "name": "python",
   "nbconvert_exporter": "python",
   "pygments_lexer": "ipython3",
   "version": "3.5.2"
  }
 },
 "nbformat": 4,
 "nbformat_minor": 2
}
